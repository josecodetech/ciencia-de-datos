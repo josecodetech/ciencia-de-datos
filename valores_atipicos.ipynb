{
  "nbformat": 4,
  "nbformat_minor": 0,
  "metadata": {
    "colab": {
      "provenance": []
    },
    "kernelspec": {
      "name": "python3",
      "display_name": "Python 3"
    },
    "language_info": {
      "name": "python"
    }
  },
  "cells": [
    {
      "cell_type": "code",
      "execution_count": 6,
      "metadata": {
        "id": "Pn1XatkL-J-L"
      },
      "outputs": [],
      "source": [
        "import numpy as np\n",
        "import matplotlib.pyplot as plt"
      ]
    },
    {
      "cell_type": "code",
      "source": [
        "np.random.seed(0)\n",
        "datos_normales = np.random.normal(loc=50, scale=10, size=100)\n",
        "datos_normales"
      ],
      "metadata": {
        "id": "T5awJ5gy-rDt"
      },
      "execution_count": null,
      "outputs": []
    },
    {
      "cell_type": "code",
      "source": [
        "valores_atipicos = [20,80,90,100,120]\n",
        "datos_completos = np.concatenate([datos_normales, valores_atipicos])\n",
        "datos_completos"
      ],
      "metadata": {
        "colab": {
          "base_uri": "https://localhost:8080/"
        },
        "id": "FQUy0sXU-9lX",
        "outputId": "f695c6d4-f06b-4521-a21f-059b39a1d2bc"
      },
      "execution_count": 3,
      "outputs": [
        {
          "output_type": "execute_result",
          "data": {
            "text/plain": [
              "array([ 67.64052346,  54.00157208,  59.78737984,  72.40893199,\n",
              "        68.6755799 ,  40.2272212 ,  59.50088418,  48.48642792,\n",
              "        48.96781148,  54.10598502,  51.44043571,  64.54273507,\n",
              "        57.61037725,  51.21675016,  54.43863233,  53.33674327,\n",
              "        64.94079073,  47.94841736,  53.13067702,  41.45904261,\n",
              "        24.47010184,  56.53618595,  58.64436199,  42.5783498 ,\n",
              "        72.69754624,  35.45634325,  50.45758517,  48.1281615 ,\n",
              "        65.32779214,  64.6935877 ,  51.54947426,  53.7816252 ,\n",
              "        41.12214252,  30.19203532,  46.52087851,  51.56348969,\n",
              "        62.30290681,  62.02379849,  46.12673183,  46.97697249,\n",
              "        39.51447035,  35.79982063,  32.93729809,  69.50775395,\n",
              "        44.90347818,  45.61925698,  37.4720464 ,  57.77490356,\n",
              "        33.86102152,  47.8725972 ,  41.04533439,  53.86902498,\n",
              "        44.89194862,  38.19367816,  49.71817772,  54.28331871,\n",
              "        50.66517222,  53.02471898,  43.65677906,  46.37258834,\n",
              "        43.27539552,  46.40446838,  41.86853718,  32.73717398,\n",
              "        51.77426142,  45.98219064,  33.69801653,  54.62782256,\n",
              "        40.92701636,  50.51945396,  57.29090562,  51.28982911,\n",
              "        61.39400685,  37.6517418 ,  54.02341641,  43.15189909,\n",
              "        41.29202851,  44.21150335,  46.88447468,  50.56165342,\n",
              "        38.34850159,  59.00826487,  54.6566244 ,  34.63756314,\n",
              "        64.88252194,  68.95889176,  61.78779571,  48.20075164,\n",
              "        39.29247378,  60.54451727,  45.96823053,  62.2244507 ,\n",
              "        52.08274978,  59.76639036,  53.56366397,  57.06573168,\n",
              "        50.10500021,  67.85870494,  51.26912093,  54.01989363,\n",
              "        20.        ,  80.        ,  90.        , 100.        ,\n",
              "       120.        ])"
            ]
          },
          "metadata": {},
          "execution_count": 3
        }
      ]
    },
    {
      "cell_type": "code",
      "source": [
        "def identificar_valores_atipicos(datos):\n",
        "  cuartil_1 = np.percentile(datos, 25)\n",
        "  cuartil_3 = np.percentile(datos, 75)\n",
        "  IQR = cuartil_3 - cuartil_1\n",
        "  limite_inferior = cuartil_1 - 1.5 * IQR\n",
        "  limite_superior = cuartil_3 + 1.5 * IQR\n",
        "  valores_atipicos = datos[(datos<limite_inferior)|(datos>limite_superior)]\n",
        "  return valores_atipicos"
      ],
      "metadata": {
        "id": "Nx33qmsg_Qij"
      },
      "execution_count": 4,
      "outputs": []
    },
    {
      "cell_type": "code",
      "source": [
        "valores_atipicos_identificados = identificar_valores_atipicos(datos_completos)\n",
        "print(\"Valores atipicos identificados: \",valores_atipicos_identificados)"
      ],
      "metadata": {
        "colab": {
          "base_uri": "https://localhost:8080/"
        },
        "id": "64Eu3mppBEU6",
        "outputId": "433486e5-f6b6-463b-9d4f-d464425d68d5"
      },
      "execution_count": 5,
      "outputs": [
        {
          "output_type": "stream",
          "name": "stdout",
          "text": [
            "Valores atipicos identificados:  [ 20.  90. 100. 120.]\n"
          ]
        }
      ]
    },
    {
      "cell_type": "code",
      "source": [
        "plt.figure(figsize=(8,6))\n",
        "plt.boxplot(datos_completos, vert=False)\n",
        "plt.title('Diagrama de caja')\n",
        "plt.xlabel('Valores')\n",
        "plt.show()"
      ],
      "metadata": {
        "colab": {
          "base_uri": "https://localhost:8080/",
          "height": 564
        },
        "id": "9Bxm1qMEBSmr",
        "outputId": "443e5044-c268-46b8-a6f5-efa4566ed6f8"
      },
      "execution_count": 7,
      "outputs": [
        {
          "output_type": "display_data",
          "data": {
            "text/plain": [
              "<Figure size 800x600 with 1 Axes>"
            ],
            "image/png": "[encoded data removed]"
          },
          "metadata": {}
        }
      ]
    },
    {
      "cell_type": "code",
      "source": [
        "datos_sin_atipicos = datos_completos[~np.isin(datos_completos,valores_atipicos_identificados)]\n",
        "print(\"Datos sin valores atipicos: \", datos_sin_atipicos)"
      ],
      "metadata": {
        "colab": {
          "base_uri": "https://localhost:8080/"
        },
        "id": "m1oFCAlxCHzM",
        "outputId": "1276c797-f081-4761-80a7-712e0a5db75b"
      },
      "execution_count": 8,
      "outputs": [
        {
          "output_type": "stream",
          "name": "stdout",
          "text": [
            "Datos sin valores atipicos:  [67.64052346 54.00157208 59.78737984 72.40893199 68.6755799  40.2272212\n",
            " 59.50088418 48.48642792 48.96781148 54.10598502 51.44043571 64.54273507\n",
            " 57.61037725 51.21675016 54.43863233 53.33674327 64.94079073 47.94841736\n",
            " 53.13067702 41.45904261 24.47010184 56.53618595 58.64436199 42.5783498\n",
            " 72.69754624 35.45634325 50.45758517 48.1281615  65.32779214 64.6935877\n",
            " 51.54947426 53.7816252  41.12214252 30.19203532 46.52087851 51.56348969\n",
            " 62.30290681 62.02379849 46.12673183 46.97697249 39.51447035 35.79982063\n",
            " 32.93729809 69.50775395 44.90347818 45.61925698 37.4720464  57.77490356\n",
            " 33.86102152 47.8725972  41.04533439 53.86902498 44.89194862 38.19367816\n",
            " 49.71817772 54.28331871 50.66517222 53.02471898 43.65677906 46.37258834\n",
            " 43.27539552 46.40446838 41.86853718 32.73717398 51.77426142 45.98219064\n",
            " 33.69801653 54.62782256 40.92701636 50.51945396 57.29090562 51.28982911\n",
            " 61.39400685 37.6517418  54.02341641 43.15189909 41.29202851 44.21150335\n",
            " 46.88447468 50.56165342 38.34850159 59.00826487 54.6566244  34.63756314\n",
            " 64.88252194 68.95889176 61.78779571 48.20075164 39.29247378 60.54451727\n",
            " 45.96823053 62.2244507  52.08274978 59.76639036 53.56366397 57.06573168\n",
            " 50.10500021 67.85870494 51.26912093 54.01989363 80.        ]\n"
          ]
        }
      ]
    },
    {
      "cell_type": "code",
      "source": [],
      "metadata": {
        "id": "qvOF02CkEMrT"
      },
      "execution_count": null,
      "outputs": []
    }
  ]
}